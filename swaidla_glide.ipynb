{
  "nbformat": 4,
  "nbformat_minor": 0,
  "metadata": {
    "colab": {
      "name": "swaidla_glide.ipynb",
      "provenance": [],
      "collapsed_sections": []
    },
    "kernelspec": {
      "name": "python3",
      "display_name": "Python 3"
    },
    "language_info": {
      "name": "python"
    }
  },
  "cells": [
    {
      "cell_type": "code",
      "source": [
        "import sys\n",
        "import os\n",
        "import gspread\n",
        "import json\n",
        "import requests\n",
        "import time\n",
        "from google.colab import drive\n",
        "\n",
        "drive.mount('/content/gdrive')"
      ],
      "metadata": {
        "colab": {
          "base_uri": "https://localhost:8080/"
        },
        "id": "BBFW2iMvTXaW",
        "outputId": "8e4103df-bd98-4e61-facf-28d35eeccf33"
      },
      "execution_count": 2,
      "outputs": [
        {
          "output_type": "stream",
          "name": "stdout",
          "text": [
            "Mounted at /content/gdrive\n"
          ]
        }
      ]
    },
    {
      "cell_type": "code",
      "source": [
        "from google.colab import auth\n",
        "auth.authenticate_user()\n",
        "\n",
        "import gspread\n",
        "from google.auth import default\n",
        "creds, _ = default()\n",
        "\n",
        "gc = gspread.authorize(creds)\n",
        "\n",
        "#Give the Google sheet url \n",
        "gsheet_url = \"\"\n",
        "sh = gc.open_by_url(gsheet_url)"
      ],
      "metadata": {
        "id": "viiEKUl9bqsf"
      },
      "execution_count": 7,
      "outputs": []
    },
    {
      "cell_type": "code",
      "execution_count": 8,
      "metadata": {
        "id": "Q5oB6_XeR7nv"
      },
      "outputs": [],
      "source": [
        "#Open the worksheet named 'Trad' , read the text in D2 column and write result in E2 column\n",
        "worksheet = sh.worksheet(\"Trad\")\n",
        "val = worksheet.acell('D2').value\n",
        "model_id = \"Helsinki-NLP/opus-mt-fr-en\"\n",
        "API_URL = f\"https://api-inference.huggingface.co/models/{model_id}\"\n",
        "API_TOKEN = \"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\"\n",
        "headers = {\"Authorization\": f\"Bearer {API_TOKEN}\"}\n",
        "def query(payload):\n",
        "    data = json.dumps(payload)\n",
        "    response = requests.request(\"POST\", API_URL, headers=headers, data=data)\n",
        "    return json.loads(response.content.decode(\"utf-8\"))\n",
        "\n"
      ]
    },
    {
      "cell_type": "code",
      "source": [
        "old_val = \"\"\n",
        "while True:\n",
        "  val = worksheet.acell('D2').value\n",
        "  if old_val != val:\n",
        "    data = query(val)\n",
        "    translation = data[0][\"translation_text\"]\n",
        "    worksheet.update('E2', translation)\n",
        "    print(translation)\n",
        "    old_val = val\n",
        "    \n"
      ],
      "metadata": {
        "id": "hZ3DyFoejrni"
      },
      "execution_count": null,
      "outputs": []
    }
  ]
}